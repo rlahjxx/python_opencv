{
 "cells": [
  {
   "cell_type": "code",
   "execution_count": 1,
   "id": "b8aca81e",
   "metadata": {},
   "outputs": [],
   "source": [
    "import cv2\n",
    "import numpy as np\n",
    "import sys\n",
    "import matplotlib.pyplot as plt"
   ]
  },
  {
   "cell_type": "markdown",
   "id": "2350647b",
   "metadata": {},
   "source": [
    "## 흑백 영상 정규화 & 평탄화"
   ]
  },
  {
   "cell_type": "code",
   "execution_count": null,
   "id": "fe3fa7bf",
   "metadata": {},
   "outputs": [],
   "source": [
    "src = cv2.imread('./fig/puppy_shrink.png', 0)\n",
    "\n",
    "# minMaxLoc(src[, mask]) -> minVal, maxVal, minLoc, maxLoc\n",
    "minVal, maxVal, minLoc, maxLoc = cv2.minMaxLoc(src)\n",
    "# print(minVal, maxVal)\n",
    "# dst_norm = np.clip((src - minVal)*255./(maxVal-minVal) + 0, 0, 255).astype(np.uint8)\n",
    "\n",
    "dst_norm = cv2.normalize(src, None, 0, 255, cv2.NORM_MINMAX, -1)\n",
    "dst_equal = cv2.equalizeHist(src) # 노이즈가 일어날 수 있음\n",
    "\n",
    "hist = cv2.calcHist([dst_norm], [0], None, [256], [0,256])\n",
    "\n",
    "cv2.imshow('src', src)\n",
    "cv2.imshow('dst_norm', dst_norm)\n",
    "cv2.imshow('dst_equal', dst_equal)\n",
    "\n",
    "plt.plot(hist)\n",
    "plt.show()\n",
    "\n",
    "cv2.waitKey()\n",
    "cv2.destroyAllWindows()"
   ]
  },
  {
   "cell_type": "markdown",
   "id": "6f992210",
   "metadata": {},
   "source": [
    "## 컬러 영상 정규화 & 평탄화"
   ]
  },
  {
   "cell_type": "code",
   "execution_count": null,
   "id": "17868831",
   "metadata": {},
   "outputs": [],
   "source": [
    "src = cv2.imread('./fig/spring_in_park.jpg', cv2.IMREAD_REDUCED_COLOR_2)\n",
    "\n",
    "src_hsv = cv2.cvtColor(src, cv2.COLOR_BGR2HSV)\n",
    "h, s, v = cv2.split(src_hsv)\n",
    "\n",
    "v_norm = cv2.normalize(v, None, 0, 255, cv2.NORM_MINMAX, -1)\n",
    "v_equal = cv2.equalizeHist(v)\n",
    "\n",
    "dst_norm = cv2.merge((h, s, v_norm))\n",
    "dst_equal = cv2.merge((h, s, v_equal))\n",
    "\n",
    "dst_norm = cv2.cvtColor(dst_norm, cv2.COLOR_HSV2BGR)\n",
    "dst_equal = cv2.cvtColor(dst_equal, cv2.COLOR_HSV2BGR)\n",
    "\n",
    "cv2.imshow('src', src)\n",
    "cv2.imshow('dst_norm', dst_norm)\n",
    "cv2.imshow('dst_equal', dst_equal)\n",
    "\n",
    "plt.plot(hist)\n",
    "plt.show()\n",
    "\n",
    "cv2.waitKey()\n",
    "cv2.destroyAllWindows()"
   ]
  },
  {
   "cell_type": "markdown",
   "id": "91dff895",
   "metadata": {},
   "source": [
    "## 색상 추출 ( 트랙바 이용 )"
   ]
  },
  {
   "cell_type": "code",
   "execution_count": null,
   "id": "4292a4f1",
   "metadata": {},
   "outputs": [],
   "source": [
    "# src = cv2.imread('./fig/palette.png')\n",
    "src = cv2.imread('./fig/palette_dark.png')\n",
    "\n",
    "src_hsv = cv2.cvtColor(src, cv2.COLOR_BGR2HSV)\n",
    "\n",
    "dst_bgr = cv2.inRange(src, (0,0,0), (255,50,50))\n",
    "dst_hsv = cv2.inRange(src_hsv, (110,180,0), (130,255,255))\n",
    "\n",
    "cv2.imshow('src', src)\n",
    "cv2.imshow('dst_bgr', dst_bgr)\n",
    "cv2.imshow('dst_hsv', dst_hsv)\n",
    "\n",
    "cv2.waitKey()\n",
    "cv2.destroyAllWindows()"
   ]
  },
  {
   "cell_type": "code",
   "execution_count": 3,
   "id": "eb19fd02",
   "metadata": {},
   "outputs": [
    {
     "ename": "error",
     "evalue": "OpenCV(4.6.0) D:\\a\\opencv-python\\opencv-python\\opencv\\modules\\highgui\\src\\window.cpp:862: error: (-215:Assertion failed) trackbar in function 'cv::getTrackbarPos'\n",
     "output_type": "error",
     "traceback": [
      "\u001b[1;31m---------------------------------------------------------------------------\u001b[0m",
      "\u001b[1;31merror\u001b[0m                                     Traceback (most recent call last)",
      "Input \u001b[1;32mIn [3]\u001b[0m, in \u001b[0;36mcall_trackbar\u001b[1;34m(pos)\u001b[0m\n\u001b[0;32m      1\u001b[0m \u001b[38;5;28;01mdef\u001b[39;00m \u001b[38;5;21mcall_trackbar\u001b[39m(pos) :\n\u001b[0;32m      2\u001b[0m     hmin \u001b[38;5;241m=\u001b[39m cv2\u001b[38;5;241m.\u001b[39mgetTrackbarPos(\u001b[38;5;124m'\u001b[39m\u001b[38;5;124mh_min\u001b[39m\u001b[38;5;124m'\u001b[39m, \u001b[38;5;124m'\u001b[39m\u001b[38;5;124mimage\u001b[39m\u001b[38;5;124m'\u001b[39m)\n\u001b[1;32m----> 3\u001b[0m     hmax \u001b[38;5;241m=\u001b[39m \u001b[43mcv2\u001b[49m\u001b[38;5;241;43m.\u001b[39;49m\u001b[43mgetTrackbarPos\u001b[49m\u001b[43m(\u001b[49m\u001b[38;5;124;43m'\u001b[39;49m\u001b[38;5;124;43mh_max\u001b[39;49m\u001b[38;5;124;43m'\u001b[39;49m\u001b[43m,\u001b[49m\u001b[43m \u001b[49m\u001b[38;5;124;43m'\u001b[39;49m\u001b[38;5;124;43mimage\u001b[39;49m\u001b[38;5;124;43m'\u001b[39;49m\u001b[43m)\u001b[49m\n\u001b[0;32m      4\u001b[0m     smin \u001b[38;5;241m=\u001b[39m cv2\u001b[38;5;241m.\u001b[39mgetTrackbarPos(\u001b[38;5;124m'\u001b[39m\u001b[38;5;124ms_min\u001b[39m\u001b[38;5;124m'\u001b[39m, \u001b[38;5;124m'\u001b[39m\u001b[38;5;124mimage\u001b[39m\u001b[38;5;124m'\u001b[39m)\n\u001b[0;32m      6\u001b[0m     dst \u001b[38;5;241m=\u001b[39m cv2\u001b[38;5;241m.\u001b[39minRange(src_hsv, (hmin, smin, \u001b[38;5;241m0\u001b[39m), (hmax, \u001b[38;5;241m255\u001b[39m, \u001b[38;5;241m255\u001b[39m))\n",
      "\u001b[1;31merror\u001b[0m: OpenCV(4.6.0) D:\\a\\opencv-python\\opencv-python\\opencv\\modules\\highgui\\src\\window.cpp:862: error: (-215:Assertion failed) trackbar in function 'cv::getTrackbarPos'\n"
     ]
    },
    {
     "ename": "error",
     "evalue": "OpenCV(4.6.0) D:\\a\\opencv-python\\opencv-python\\opencv\\modules\\highgui\\src\\window.cpp:862: error: (-215:Assertion failed) trackbar in function 'cv::getTrackbarPos'\n",
     "output_type": "error",
     "traceback": [
      "\u001b[1;31m---------------------------------------------------------------------------\u001b[0m",
      "\u001b[1;31merror\u001b[0m                                     Traceback (most recent call last)",
      "Input \u001b[1;32mIn [3]\u001b[0m, in \u001b[0;36mcall_trackbar\u001b[1;34m(pos)\u001b[0m\n\u001b[0;32m      2\u001b[0m hmin \u001b[38;5;241m=\u001b[39m cv2\u001b[38;5;241m.\u001b[39mgetTrackbarPos(\u001b[38;5;124m'\u001b[39m\u001b[38;5;124mh_min\u001b[39m\u001b[38;5;124m'\u001b[39m, \u001b[38;5;124m'\u001b[39m\u001b[38;5;124mimage\u001b[39m\u001b[38;5;124m'\u001b[39m)\n\u001b[0;32m      3\u001b[0m hmax \u001b[38;5;241m=\u001b[39m cv2\u001b[38;5;241m.\u001b[39mgetTrackbarPos(\u001b[38;5;124m'\u001b[39m\u001b[38;5;124mh_max\u001b[39m\u001b[38;5;124m'\u001b[39m, \u001b[38;5;124m'\u001b[39m\u001b[38;5;124mimage\u001b[39m\u001b[38;5;124m'\u001b[39m)\n\u001b[1;32m----> 4\u001b[0m smin \u001b[38;5;241m=\u001b[39m \u001b[43mcv2\u001b[49m\u001b[38;5;241;43m.\u001b[39;49m\u001b[43mgetTrackbarPos\u001b[49m\u001b[43m(\u001b[49m\u001b[38;5;124;43m'\u001b[39;49m\u001b[38;5;124;43ms_min\u001b[39;49m\u001b[38;5;124;43m'\u001b[39;49m\u001b[43m,\u001b[49m\u001b[43m \u001b[49m\u001b[38;5;124;43m'\u001b[39;49m\u001b[38;5;124;43mimage\u001b[39;49m\u001b[38;5;124;43m'\u001b[39;49m\u001b[43m)\u001b[49m\n\u001b[0;32m      6\u001b[0m dst \u001b[38;5;241m=\u001b[39m cv2\u001b[38;5;241m.\u001b[39minRange(src_hsv, (hmin, smin, \u001b[38;5;241m0\u001b[39m), (hmax, \u001b[38;5;241m255\u001b[39m, \u001b[38;5;241m255\u001b[39m))\n\u001b[0;32m      7\u001b[0m cv2\u001b[38;5;241m.\u001b[39mimshow(\u001b[38;5;124m'\u001b[39m\u001b[38;5;124mimage\u001b[39m\u001b[38;5;124m'\u001b[39m, dst)\n",
      "\u001b[1;31merror\u001b[0m: OpenCV(4.6.0) D:\\a\\opencv-python\\opencv-python\\opencv\\modules\\highgui\\src\\window.cpp:862: error: (-215:Assertion failed) trackbar in function 'cv::getTrackbarPos'\n"
     ]
    }
   ],
   "source": [
    "def call_trackbar(pos) :\n",
    "    hmin = cv2.getTrackbarPos('h_min', 'image')\n",
    "    hmax = cv2.getTrackbarPos('h_max', 'image')\n",
    "    smin = cv2.getTrackbarPos('s_min', 'image')\n",
    "    \n",
    "    dst = cv2.inRange(src_hsv, (hmin, smin, 0), (hmax, 255, 255))\n",
    "    cv2.imshow('image', dst)\n",
    "\n",
    "src = cv2.imread('./fig/palette.png')\n",
    "src_hsv = cv2.cvtColor(src, cv2.COLOR_BGR2HSV)\n",
    "\n",
    "cv2.namedWindow('image')\n",
    "cv2.createTrackbar('h_min', 'image', 50, 179, call_trackbar)\n",
    "cv2.createTrackbar('h_max', 'image', 100, 179, call_trackbar)\n",
    "cv2.createTrackbar('s_min', 'image', 100, 255, call_trackbar)\n",
    "\n",
    "cv2.imshow('src', src)\n",
    "\n",
    "cv2.waitKey()\n",
    "cv2.destroyAllWindows()"
   ]
  },
  {
   "cell_type": "markdown",
   "id": "03f947a0",
   "metadata": {},
   "source": [
    "## 크로마키 합성"
   ]
  },
  {
   "cell_type": "code",
   "execution_count": null,
   "id": "e15f8a5f",
   "metadata": {},
   "outputs": [],
   "source": [
    "def call_trackbar(pos):\n",
    "    hmin = cv2.getTrackbarPos('h_min', 'mask')\n",
    "    hmax = cv2.getTrackbarPos('h_max', 'mask')\n",
    "    smin = cv2.getTrackbarPos('s_min', 'mask')\n",
    "    \n",
    "    mask = cv2.inRange(dst_hsv, (hmin, smin, 0), (hmax, 255, 255))\n",
    "    cv2.imshow('mask', mask)\n",
    "    \n",
    "    dst1 = dst.copy()\n",
    "    cv2.copyTo(src, mask, dst1)\n",
    "    cv2.imshow('dst', dst1)\n",
    "\n",
    "src = cv2.imread('./fig/autumn.jpg')\n",
    "dst = cv2.imread('./fig/chromakey.png')\n",
    "\n",
    "h, w = dst.shape[:2]\n",
    "src = cv2.resize(src, (w,h), interpolation = cv2.INTER_AREA)\n",
    "dst_hsv = cv2.cvtColor(dst, cv2.COLOR_BGR2HSV)\n",
    "\n",
    "cv2.namedWindow('mask')\n",
    "cv2.createTrackbar('h_min', 'mask', 50, 179, call_trackbar)\n",
    "cv2.createTrackbar('h_max', 'mask', 70, 179, call_trackbar)\n",
    "cv2.createTrackbar('s_min', 'mask', 0, 255, call_trackbar)\n",
    "\n",
    "cv2.imshow('src', src)\n",
    "cv2.imshow('dst', dst)\n",
    "\n",
    "cv2.waitKey()\n",
    "cv2.destroyAllWindows()"
   ]
  },
  {
   "cell_type": "code",
   "execution_count": null,
   "id": "0b064fc7",
   "metadata": {},
   "outputs": [],
   "source": []
  }
 ],
 "metadata": {
  "kernelspec": {
   "display_name": "Python 3 (ipykernel)",
   "language": "python",
   "name": "python3"
  },
  "language_info": {
   "codemirror_mode": {
    "name": "ipython",
    "version": 3
   },
   "file_extension": ".py",
   "mimetype": "text/x-python",
   "name": "python",
   "nbconvert_exporter": "python",
   "pygments_lexer": "ipython3",
   "version": "3.9.12"
  }
 },
 "nbformat": 4,
 "nbformat_minor": 5
}
