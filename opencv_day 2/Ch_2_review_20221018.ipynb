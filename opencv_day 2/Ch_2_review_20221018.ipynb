{
 "cells": [
  {
   "cell_type": "markdown",
   "id": "0f3a9205",
   "metadata": {},
   "source": [
    "## 복습"
   ]
  },
  {
   "cell_type": "code",
   "execution_count": 1,
   "id": "82f5407c",
   "metadata": {},
   "outputs": [],
   "source": [
    "import cv2\n",
    "import numpy as np\n",
    "import sys"
   ]
  },
  {
   "cell_type": "code",
   "execution_count": null,
   "id": "49566e25",
   "metadata": {},
   "outputs": [],
   "source": [
    "img = cv2.imread('./fig/puppy.bmp', cv2.IMREAD_COLOR)\n",
    "imgRGB = cv2.cvtColor(img, cv2.COLOR_BGR2RGB)\n",
    "\n",
    "if img is None:\n",
    "    print('image read failed')\n",
    "    sys.exit()\n",
    "    \n",
    "cv2.namedWindow('image', cv2.WINDOW_AUTOSIZE)\n",
    "cv2.imshow('image', img)\n",
    "\n",
    "img_resize = cv2.resize(img, (600, 400))\n",
    "\n",
    "cv2.imwrite('./fig/test.png', img_resize)\n",
    "\n",
    "while True:\n",
    "    key = cv2.waitKey()\n",
    "    \n",
    "    if key == 27 or key == ord('q'):\n",
    "        break\n",
    "\n",
    "cv2.destroyAllWindows()"
   ]
  },
  {
   "cell_type": "code",
   "execution_count": 2,
   "id": "00559a21",
   "metadata": {},
   "outputs": [],
   "source": [
    "import glob"
   ]
  },
  {
   "cell_type": "code",
   "execution_count": null,
   "id": "ddbde310",
   "metadata": {},
   "outputs": [],
   "source": [
    "img_files = glob.glob('../opencv_day 1/fig/my_images/*.*')\n",
    "\n",
    "cv2.namedWindow('scene', cv2.WINDOW_NORMAL)\n",
    "cv2.setWindowProperty('scene', cv2.WND_PROP_FULLSCREEN, cv2.WINDOW_FULLSCREEN)\n",
    "\n",
    "idx = 0\n",
    "while True:\n",
    "    img = cv2.imread(img_files[idx])\n",
    "    \n",
    "    if img is None:\n",
    "        print('image read failed')\n",
    "        break\n",
    "    \n",
    "    cv2.imshow('scene', img)\n",
    "    \n",
    "    key = cv2.waitKey(3000)\n",
    "    \n",
    "    if key == 27 or key == ord('q'):\n",
    "        break\n",
    "        \n",
    "    idx += 1\n",
    "    \n",
    "    if idx >= len(img_files):\n",
    "        idx = 0\n",
    "        \n",
    "cv2.destroyAllWindows()"
   ]
  },
  {
   "cell_type": "code",
   "execution_count": null,
   "id": "4de4d7e6",
   "metadata": {},
   "outputs": [],
   "source": [
    "img1 = cv2.imread('./fig/puppy.bmp', 0)\n",
    "img2 = cv2.imread('./fig/puppy.bmp', 1)\n",
    "\n",
    "print(img1.shape)\n",
    "print(img2.shape)\n",
    "\n",
    "print(img1.dtype)\n",
    "print(img2.dtype)\n",
    "\n",
    "h, w = img2.shape[:2]"
   ]
  },
  {
   "cell_type": "code",
   "execution_count": null,
   "id": "4bcc8165",
   "metadata": {},
   "outputs": [],
   "source": [
    "img2 = cv2.imread('./fig/puppy.bmp', 1)\n",
    "\n",
    "# h, w = img2.shape[:2]\n",
    "# p = img2[h//2, w//2]\n",
    "img2[100:200, 400:600] = (0,0,255)\n",
    "\n",
    "print(p)\n",
    "\n",
    "cv2.imshow('image', img2)\n",
    "cv2.waitKey()\n",
    "cv2.destroyAllWindows()"
   ]
  },
  {
   "cell_type": "code",
   "execution_count": null,
   "id": "371e7b5f",
   "metadata": {},
   "outputs": [],
   "source": [
    "img1 = np.zeros((600,400), np.uint8)\n",
    "img2 = np.ones((600,400), np.uint8)*255\n",
    "img3 = np.full((600,400,3), (123, 88, 13), np.uint8)\n",
    "\n",
    "cv2.imshow('image1', img1)\n",
    "cv2.imshow('image2', img2)\n",
    "cv2.imshow('image3', img3)\n",
    "\n",
    "cv2.waitKey()\n",
    "cv2.destroyAllWindows()"
   ]
  },
  {
   "cell_type": "code",
   "execution_count": null,
   "id": "2849247c",
   "metadata": {},
   "outputs": [],
   "source": [
    "img2 = cv2.imread('./fig/puppy.bmp', 1)\n",
    "\n",
    "img3 = img2.copy()\n",
    "\n",
    "img2[100:200, 400:600] = (0,0,255)\n",
    "\n",
    "print(p)\n",
    "\n",
    "cv2.imshow('image2', img2)\n",
    "cv2.imshow('image3', img3)\n",
    "\n",
    "cv2.waitKey()\n",
    "cv2.destroyAllWindows()"
   ]
  },
  {
   "cell_type": "markdown",
   "id": "90be4272",
   "metadata": {},
   "source": [
    "## 원 모양으로 채워보기"
   ]
  },
  {
   "cell_type": "code",
   "execution_count": null,
   "id": "1e1b2a63",
   "metadata": {},
   "outputs": [],
   "source": [
    "img = cv2.imread('./fig/puppy.bmp')\n",
    "\n",
    "img1 = img[200:400, 300:500]\n",
    "img2 = img[200:400, 300:500].copy()\n",
    "\n",
    "# circle(img, center(원의 센터), radius(반지름), color[, thickness[, lineType[, shift]]])\n",
    "cv2.circle(img1, (100,100), 50, (0,0,255), 2, cv2.LINE_AA) # LINE_AA는 픽셀에 색칠하여 원을 선으로 나타낼 때, 선이 부드러워지게 함\n",
    "cv2.circle(img2, (100,100), 50, (255,0,0), -1, cv2.LINE_AA)\n",
    "\n",
    "cv2.imshow('image', img)\n",
    "cv2.imshow('image1', img1)\n",
    "cv2.imshow('image2', img2)\n",
    "\n",
    "cv2.waitKey()\n",
    "cv2.destroyAllWindows()"
   ]
  },
  {
   "cell_type": "code",
   "execution_count": null,
   "id": "11e06b34",
   "metadata": {},
   "outputs": [],
   "source": [
    "# 실습해보기\n",
    "img = cv2.imread('./fig/201386295_1280.jpg')\n",
    "print(img.shape)\n",
    "\n",
    "cv2.circle(img, (270,270), 50, (0,255,255), -1, cv2.LINE_AA)\n",
    "\n",
    "cv2.imshow('image', img)\n",
    "\n",
    "cv2.waitKey()\n",
    "cv2.destroyAllWindows()"
   ]
  },
  {
   "cell_type": "markdown",
   "id": "cfa4ec90",
   "metadata": {},
   "source": [
    "## 이미지에서 비행기만 복사해서 붙여넣기"
   ]
  },
  {
   "cell_type": "code",
   "execution_count": null,
   "id": "e641c3eb",
   "metadata": {},
   "outputs": [],
   "source": [
    "src = cv2.imread('./fig/airplane.bmp')\n",
    "mask = cv2.imread('./fig/mask_plane.bmp', 0)\n",
    "dst = cv2.imread('./fig/field.bmp')\n",
    "\n",
    "if src is None or mask is None or dst is None:\n",
    "    print('image read failed')\n",
    "    sys.exit()\n",
    "\n",
    "# copyTo(src, mask[, dst])\n",
    "# cv2.copyTo(src, mask, dst)\n",
    "dst2 = cv2.copyTo(src, mask) # 비행기 모형만 따기\n",
    "dst[mask > 0] = (0,0,255) # 비행기 모양만큼 빨간색으로 변경\n",
    "    \n",
    "cv2.imshow('src', src)\n",
    "cv2.imshow('mask', mask)\n",
    "cv2.imshow('dst', dst)\n",
    "cv2.imshow('dst2', dst2)\n",
    "\n",
    "while True:\n",
    "    if cv2.waitKey() == 27:\n",
    "        break\n",
    "cv2.destroyAllWindows()"
   ]
  },
  {
   "cell_type": "markdown",
   "id": "00318bdb",
   "metadata": {},
   "source": [
    "## mask 만들기"
   ]
  },
  {
   "cell_type": "code",
   "execution_count": null,
   "id": "fca3e79c",
   "metadata": {},
   "outputs": [],
   "source": [
    "src = cv2.imread('./fig/cow.png')\n",
    "dst = cv2.imread('./fig/green.png')\n",
    "\n",
    "dst2 = dst[0:600, 0:600]\n",
    "src_gray = cv2.cvtColor(src, cv2.COLOR_BGR2GRAY)\n",
    "h, w = src.shape[:2]\n",
    "dst2 = cv2.resize(dst2, (w, h), interpolation = cv2.INTER_LINEAR) # interpolation : 없는 걸 만들어낸다 (100 X 100 -> 200 X 200)\n",
    "\n",
    "# threshold(src, thresh, maxval, type[, dst]) -> retval, dst 2개로 받아야 함\n",
    "retval, mask = cv2.threshold(src_gray, 240, 255, cv2.THRESH_BINARY_INV) #(이진 영상)\n",
    "cv2.copyTo(src, mask, dst2)\n",
    "\n",
    "\n",
    "\n",
    "cv2.imshow('src', src)\n",
    "# cv2.imshow('src_GRAY', src_gray)\n",
    "cv2.imshow('mask', mask)\n",
    "cv2.imshow('dst', dst)\n",
    "\n",
    "if cv2.waitKey() == 27:\n",
    "    cv2.destroyAllWindows()"
   ]
  },
  {
   "cell_type": "code",
   "execution_count": 7,
   "id": "bf29ca27",
   "metadata": {},
   "outputs": [
    {
     "name": "stdout",
     "output_type": "stream",
     "text": [
      "(1125, 1500, 3)\n"
     ]
    }
   ],
   "source": [
    "# 초원 이미지를 그대로 두고 송아지만 집어넣기\n",
    "src = cv2.imread('./fig/cow.png')\n",
    "dst = cv2.imread('./fig/green.png')\n",
    "\n",
    "dst2 = dst[450:1050, 300:900]\n",
    "src_gray = cv2.cvtColor(src, cv2.COLOR_BGR2GRAY)\n",
    "print(dst.shape)\n",
    "\n",
    "# # h, w = src.shape[:2]\n",
    "# # dst = cv2.resize(dst, (w, h), interpolation = cv2.INTER_LINEAR)\n",
    "\n",
    "# # threshold(src, thresh, maxval, type[, dst]) -> retval, dst 2개로 받아야 함\n",
    "retval, mask = cv2.threshold(src_gray, 240, 255, cv2.THRESH_BINARY_INV) #(이진 영상)\n",
    "cv2.copyTo(src, mask, dst2)\n",
    "\n",
    "cv2.namedWindow('dst', cv2.WINDOW_NORMAL)\n",
    "\n",
    "cv2.imshow('src', src)\n",
    "# cv2.imshow('src_GRAY', src_gray)\n",
    "# cv2.imshow('mask', mask)\n",
    "cv2.imshow('dst', dst)\n",
    "\n",
    "while True:\n",
    "    if cv2.waitKey() == 27:\n",
    "        break\n",
    "cv2.destroyAllWindows()"
   ]
  },
  {
   "cell_type": "code",
   "execution_count": null,
   "id": "c8921b82",
   "metadata": {},
   "outputs": [],
   "source": []
  }
 ],
 "metadata": {
  "kernelspec": {
   "display_name": "Python 3 (ipykernel)",
   "language": "python",
   "name": "python3"
  },
  "language_info": {
   "codemirror_mode": {
    "name": "ipython",
    "version": 3
   },
   "file_extension": ".py",
   "mimetype": "text/x-python",
   "name": "python",
   "nbconvert_exporter": "python",
   "pygments_lexer": "ipython3",
   "version": "3.9.12"
  }
 },
 "nbformat": 4,
 "nbformat_minor": 5
}
