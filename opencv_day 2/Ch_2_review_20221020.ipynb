{
 "cells": [
  {
   "cell_type": "markdown",
   "id": "745d932d",
   "metadata": {},
   "source": [
    "## 복습"
   ]
  },
  {
   "cell_type": "code",
   "execution_count": 1,
   "id": "83a03ba3",
   "metadata": {},
   "outputs": [],
   "source": [
    "import cv2\n",
    "import numpy as np\n",
    "import sys"
   ]
  },
  {
   "cell_type": "code",
   "execution_count": null,
   "id": "5ad55f52",
   "metadata": {},
   "outputs": [],
   "source": [
    "img = np.ones((800,1200,3), np.uint8)*255\n",
    "\n",
    "cv2.line(img, (100,50), (300,50), (0,0,255), 10)\n",
    "cv2.arrowedLine(img, (100,100), (300,100), (255,0,0), 10)\n",
    "cv2.rectangle(img, (100,200), (300,400), (0,255,0), 10)\n",
    "cv2.rectangle(img, (120,220,160,160), (0,100,255), -1)\n",
    "\n",
    "cv2.circle(img, (600,300), 100, (123, 111, 234), 10, cv2.LINE_AA)\n",
    "\n",
    "cv2.ellipse(img, (600,300), (200,50), -20, 0, 360, (0,0,255), 10, cv2.LINE_AA)\n",
    "\n",
    "cv2.putText(img, 'Hello Opencv!', (800,500), cv2.FONT_HERSHEY_SIMPLEX, \n",
    "          2, (111,234,56), 4, cv2.LINE_AA)\n",
    "\n",
    "cv2.imshow('image', img)\n",
    "\n",
    "cv2.waitKey()\n",
    "cv2.destroyAllWindows()"
   ]
  },
  {
   "cell_type": "code",
   "execution_count": null,
   "id": "10bb803a",
   "metadata": {},
   "outputs": [],
   "source": [
    "src = cv2.imread('./fig/imgbin_hat.png', cv2.IMREAD_UNCHANGED)\n",
    "src = cv2.resize(src, (600, 40))"
   ]
  },
  {
   "cell_type": "code",
   "execution_count": null,
   "id": "6e11d00b",
   "metadata": {},
   "outputs": [],
   "source": [
    "img = cv2.imread('./fig/puppy.bmp')\n",
    "\n",
    "if img is None:\n",
    "    print('image read failed')\n",
    "    sys.exit()\n",
    "    \n",
    "cv2.namedWindow('image', cv2.WINDOW_AUTOSIZE)\n",
    "cv2.imshow('image', img)\n",
    "\n",
    "while True:\n",
    "    key = cv2.waitKey()\n",
    "    if key == 27 or key == ord('q'):\n",
    "        break\n",
    "cv2.destroyAllWindows()"
   ]
  },
  {
   "cell_type": "code",
   "execution_count": 2,
   "id": "96fe45bf",
   "metadata": {},
   "outputs": [],
   "source": [
    "import glob"
   ]
  },
  {
   "cell_type": "code",
   "execution_count": 3,
   "id": "a1e907a8",
   "metadata": {},
   "outputs": [],
   "source": [
    "img_files = glob.glob('../opencv_day 1/fig/images/*.*')\n",
    "\n",
    "cv2.namedWindow('scene', cv2.WINDOW_NORMAL)\n",
    "cv2.setWindowProperty('scene', cv2.WND_PROP_FULLSCREEN, cv2.WINDOW_FULLSCREEN)\n",
    "\n",
    "idx = 0\n",
    "while True:\n",
    "    img = cv2.imread(img_files[idx])\n",
    "    \n",
    "    cv2.imshow('scene', img)\n",
    "    \n",
    "    if cv2.waitKey(3000) == 27:\n",
    "        break\n",
    "    \n",
    "    idx += 1\n",
    "    \n",
    "    if idx >= len(img_files):\n",
    "        idx = 0\n",
    "cv2.destroyAllWindows()"
   ]
  },
  {
   "cell_type": "markdown",
   "id": "3f652123",
   "metadata": {},
   "source": [
    "## 동영상 처리"
   ]
  },
  {
   "cell_type": "code",
   "execution_count": 12,
   "id": "5edf0cd9",
   "metadata": {},
   "outputs": [],
   "source": [
    "cap = cv2.VideoCapture(0) # webcam 사용\n",
    "# cap = cv2.VideoCapture('.')\n",
    "\n",
    "if not cap.isOpened() :\n",
    "    print('camera open failed')\n",
    "    sys.exit()\n",
    "\n",
    "while True :\n",
    "    ret, frame = cap.read()\n",
    "\n",
    "    if not ret :\n",
    "        print('frame read failed')\n",
    "        break\n",
    "\n",
    "    edge = cv2.Canny(frame, 50, 150) # 미분 필터를 이용한 edge 필터\n",
    "\n",
    "    frame_gray = cv2.cvtColor(frame, cv2.COLOR_BGR2GRAY)\n",
    "    inverse = 255 - frame_gray\n",
    "\n",
    "    cv2.imshow('frame', frame)\n",
    "    cv2.imshow('Edge', edge)\n",
    "    cv2.imshow('inverse', inverse)\n",
    "\n",
    "    if cv2.waitKey(30) == 27 :\n",
    "        break\n",
    "\n",
    "cap.release()\n",
    "cv2.destroyAllWindows()"
   ]
  },
  {
   "cell_type": "code",
   "execution_count": 32,
   "id": "042fa99f",
   "metadata": {},
   "outputs": [],
   "source": [
    "# 동영상 저장\n",
    "\n",
    "cap = cv2.VideoCapture(0)\n",
    "\n",
    "if not cap.isOpened():\n",
    "    print('cap open failed')\n",
    "    sys.exit()\n",
    "\n",
    "# cv2.VideoWriter(filename, fourcc, fps, framesize, isColor=None) -> retval\n",
    "# filename: 저장할 이름\n",
    "# fourcc: cv2.VideoWriter_fourcc(*'DIVX') 를 사용\n",
    "# fps: 초당 프레임 수 e.g. 30\n",
    "# frameSize: 프레임 크기 e.g., [640, 480])\n",
    "# isColor: Color 영상 -> defalut = 1\n",
    "\n",
    "w = int(cap.get(cv2.CAP_PROP_FRAME_WIDTH)) # 지금 들어오는 동영상의 width 값\n",
    "h = int(cap.get(cv2.CAP_PROP_FRAME_HEIGHT))\n",
    "fps = int(cap.get(cv2.CAP_PROP_FPS))\n",
    "fourcc = cv2.VideoWriter_fourcc(*'DIVX') # DivX MPEG-4 코덱\n",
    "# print('width : {}, height : {}, fps : {}'.format(w,h,fps))\n",
    "\n",
    "out = cv2.VideoWriter('output.avi', fourcc, fps, (w,h), 0)\n",
    "\n",
    "while True:\n",
    "    ret, frame = cap.read()\n",
    "    \n",
    "    if not ret:\n",
    "        print('frame read failed')\n",
    "        break\n",
    "    \n",
    "    frame_gray = cv2.cvtColor(frame, cv2.COLOR_BGR2GRAY)\n",
    "    \n",
    "#     out에서 color 지정 안한 경우 2차원인 frame_gray를 다시 컬러인 3차원으로 변환시켜줘야 함\n",
    "#     frame_gray_color = cv2.cvtColor(frame_gray, cv2.COLOR_GRAY2BGR)\n",
    "\n",
    "    \n",
    "    out.write(frame_gray)\n",
    "    cv2.imshow('frame', frame)\n",
    "\n",
    "    if cv2.waitKey(30) == 27:\n",
    "        break\n",
    "    \n",
    "cap.release()\n",
    "out.release()\n",
    "cv2.destroyAllWindows()"
   ]
  },
  {
   "cell_type": "code",
   "execution_count": null,
   "id": "9b2d07f8",
   "metadata": {},
   "outputs": [],
   "source": []
  }
 ],
 "metadata": {
  "kernelspec": {
   "display_name": "Python 3 (ipykernel)",
   "language": "python",
   "name": "python3"
  },
  "language_info": {
   "codemirror_mode": {
    "name": "ipython",
    "version": 3
   },
   "file_extension": ".py",
   "mimetype": "text/x-python",
   "name": "python",
   "nbconvert_exporter": "python",
   "pygments_lexer": "ipython3",
   "version": "3.9.12"
  }
 },
 "nbformat": 4,
 "nbformat_minor": 5
}
