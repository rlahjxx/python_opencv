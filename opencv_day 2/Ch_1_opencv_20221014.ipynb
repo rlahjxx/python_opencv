{
 "cells": [
  {
   "cell_type": "code",
   "execution_count": 1,
   "id": "381b28b8",
   "metadata": {},
   "outputs": [],
   "source": [
    "# 복습\n",
    "import cv2\n",
    "import numpy as np\n",
    "import sys"
   ]
  },
  {
   "cell_type": "code",
   "execution_count": null,
   "id": "8af586bd",
   "metadata": {},
   "outputs": [],
   "source": [
    "img = cv2.imread('./fig/PD_MRI.jpeg', cv2.IMREAD_COLOR) # 칼라로 읽으면 3차원, 흑백으로 읽으면 2차원\n",
    "print(img.shape)\n",
    "\n",
    "if img is None:\n",
    "    print('image read failed')\n",
    "    sys.exit()\n",
    "    \n",
    "cv2.namedWindow('image', cv2.WINDOW_NORMAL)\n",
    "cv2.imshow('image', img)\n",
    "\n",
    "while True:\n",
    "    key = cv2.waitKey()\n",
    "    if key == 27 or key == ord('q'):\n",
    "        break\n",
    "cv2.destroyAllWindows()"
   ]
  },
  {
   "cell_type": "code",
   "execution_count": 3,
   "id": "6e3b451a",
   "metadata": {},
   "outputs": [],
   "source": [
    "import os\n",
    "import cv2\n",
    "import numpy as np\n",
    "import sys"
   ]
  },
  {
   "cell_type": "code",
   "execution_count": 5,
   "id": "18f40371",
   "metadata": {},
   "outputs": [
    {
     "name": "stdout",
     "output_type": "stream",
     "text": [
      "(1080, 1920, 3)\n",
      "(1080, 1920, 3)\n",
      "(1080, 1920, 3)\n",
      "(1080, 1920, 3)\n",
      "(1080, 1920, 3)\n",
      "(1080, 1920, 3)\n"
     ]
    }
   ],
   "source": [
    "img_lists = os.listdir('./fig/images/') # 여러개의 이미지 불러올 경우 리스트에 담는 방법\n",
    "img_files = []\n",
    "\n",
    "for i in img_lists:\n",
    "    img_file = './fig/images/'+ i\n",
    "    img_files.append(img_file)\n",
    "\n",
    "# print(img_files)\n",
    "\n",
    "cv2.namedWindow('scenery', cv2.WINDOW_NORMAL)\n",
    "# setWindowProperty(winname, prop_id, prop_value)\n",
    "cv2.setWindowProperty('scenery', cv2.WND_PROP_FULLSCREEN, cv2.WINDOW_FULLSCREEN)\n",
    "\n",
    "idx = 0\n",
    "while True:\n",
    "    img = cv2.imread(img_files[idx])\n",
    "    print(img.shape)\n",
    "\n",
    "    if img is None:\n",
    "        print('image read failed')\n",
    "        break\n",
    "\n",
    "    cv2.imshow('scenery', img)\n",
    "\n",
    "    if cv2.waitKey(1000) == 27:\n",
    "        break\n",
    "\n",
    "    idx += 1\n",
    "\n",
    "    if idx >= len(img_files):\n",
    "        idx = 0\n",
    "# for i in img_files:\n",
    "#     img = cv2.imread(i)\n",
    "\n",
    "#     if img is None:\n",
    "#         print('image read failed')\n",
    "#         break\n",
    "\n",
    "#     cv2.imshow('scenery', img)\n",
    "\n",
    "#     if cv2.waitKey(1000) == 27:\n",
    "#         break\n",
    "\n",
    "cv2.destroyAllWindows()"
   ]
  },
  {
   "cell_type": "code",
   "execution_count": null,
   "id": "900dfa9c",
   "metadata": {},
   "outputs": [],
   "source": []
  }
 ],
 "metadata": {
  "kernelspec": {
   "display_name": "Python 3 (ipykernel)",
   "language": "python",
   "name": "python3"
  },
  "language_info": {
   "codemirror_mode": {
    "name": "ipython",
    "version": 3
   },
   "file_extension": ".py",
   "mimetype": "text/x-python",
   "name": "python",
   "nbconvert_exporter": "python",
   "pygments_lexer": "ipython3",
   "version": "3.9.12"
  }
 },
 "nbformat": 4,
 "nbformat_minor": 5
}
