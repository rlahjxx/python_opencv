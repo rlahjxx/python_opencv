{
 "cells": [
  {
   "cell_type": "code",
   "execution_count": 31,
   "id": "dd152f3e",
   "metadata": {},
   "outputs": [],
   "source": [
    "import cv2\n",
    "import sys\n",
    "import numpy as np"
   ]
  },
  {
   "cell_type": "code",
   "execution_count": 32,
   "id": "2732a3cf",
   "metadata": {},
   "outputs": [
    {
     "name": "stdout",
     "output_type": "stream",
     "text": [
      "<class 'numpy.ndarray'> <class 'numpy.ndarray'>\n",
      "imgae1 shape : (480, 640)\n",
      "imgae2 shape : (853, 1280, 3)\n",
      "image1 data type : uint8\n",
      "image2 data type : uint8\n"
     ]
    }
   ],
   "source": [
    "img1 = cv2.imread('./fig/puppy.bmp', cv2.IMREAD_GRAYSCALE)\n",
    "img2 = cv2.imread('./fig/puppy_1280_853.jpg', cv2.IMREAD_COLOR)\n",
    "\n",
    "print(type(img1), type(img2))\n",
    "print('imgae1 shape :', img1.shape) # numpy 배열은 (세로,가로) 형태로 나옴\n",
    "print('imgae2 shape :', img2.shape)\n",
    "print('image1 data type :', img1.dtype)\n",
    "print('image2 data type :', img2.dtype)"
   ]
  },
  {
   "cell_type": "code",
   "execution_count": 33,
   "id": "f4cb23e0",
   "metadata": {},
   "outputs": [
    {
     "name": "stdout",
     "output_type": "stream",
     "text": [
      "image1 size : 640 x 480\n",
      "image2 size : 1280 x 853\n"
     ]
    }
   ],
   "source": [
    "h, w = img1.shape\n",
    "print('image1 size : {} x {}'.format(w,h))\n",
    "\n",
    "h, w = img2.shape[:2]\n",
    "print('image2 size : {} x {}'.format(w,h))"
   ]
  },
  {
   "cell_type": "markdown",
   "id": "c6843519",
   "metadata": {},
   "source": [
    "## 강아지 눈 가려보기"
   ]
  },
  {
   "cell_type": "code",
   "execution_count": 34,
   "id": "6d75f7cd",
   "metadata": {},
   "outputs": [
    {
     "name": "stdout",
     "output_type": "stream",
     "text": [
      "image1 size : 640 x 480\n",
      "[ 0 14 40]\n"
     ]
    }
   ],
   "source": [
    "img1 = cv2.imread('./fig/puppy.bmp', cv2.IMREAD_COLOR)\n",
    "\n",
    "if img1 is None:\n",
    "    print('image read failed')\n",
    "    sys.exit()\n",
    "    \n",
    "h, w = img1.shape[:2]\n",
    "print('image1 size : {} x {}'.format(w,h))\n",
    "\n",
    "p1 = img1[h//2, w//2]\n",
    "print(p1)\n",
    "\n",
    "img1[180:230, 275:325] = 0,0,0 # 범위만큼 0에 해당되는 검은색으로 바뀜(BGR)\n",
    "img1[180:230, 420:470] = 0,0,0\n",
    "\n",
    "cv2.namedWindow('image')\n",
    "cv2.imshow('image', img1)\n",
    "\n",
    "while True:\n",
    "    key = cv2.waitKey()\n",
    "    if key == 27 or key == ord('i'):\n",
    "        break\n",
    "\n",
    "cv2.destroyAllWindows()"
   ]
  },
  {
   "cell_type": "markdown",
   "id": "f3c82751",
   "metadata": {},
   "source": [
    "## 영상 만들기"
   ]
  },
  {
   "cell_type": "code",
   "execution_count": 41,
   "id": "f3b68366",
   "metadata": {},
   "outputs": [],
   "source": [
    "# zeros(shape, dtype=float, order='C', *, like=None)\n",
    "img1 = np.zeros((400,600), dtype = np.uint8)\n",
    "img2 = np.ones((400,600,3), dtype = np.uint8)*255\n",
    "img3 = np.full((600,400,3), (0,255,255), dtype = np.uint8)\n",
    "img4 = np.random.randint(0,255,(600,400), dtype = np.uint8) # 노이즈 만들기\n",
    "\n",
    "cv2.imshow('img1', img1)\n",
    "cv2.imshow('img2', img2)\n",
    "cv2.imshow('img3', img3)\n",
    "cv2.imshow('img4', img4)\n",
    "\n",
    "cv2.waitKey()\n",
    "cv2.destroyAllWindows()"
   ]
  },
  {
   "cell_type": "markdown",
   "id": "8787011c",
   "metadata": {},
   "source": [
    "## 영상 복사하기"
   ]
  },
  {
   "cell_type": "code",
   "execution_count": 46,
   "id": "3f6f10ed",
   "metadata": {},
   "outputs": [],
   "source": [
    "img = cv2.imread('./fig/puppy.bmp')\n",
    "\n",
    "img1 = img\n",
    "img2 = img.copy()\n",
    "\n",
    "img1[150:230, 270:480] = (0,0,0)\n",
    "\n",
    "cv2.imshow('image', img)\n",
    "cv2.imshow('image1', img1)\n",
    "cv2.imshow('image2', img2)\n",
    "\n",
    "cv2.waitKey()\n",
    "cv2.destroyAllWindows()"
   ]
  },
  {
   "cell_type": "code",
   "execution_count": null,
   "id": "9038cb1e",
   "metadata": {},
   "outputs": [],
   "source": []
  }
 ],
 "metadata": {
  "kernelspec": {
   "display_name": "Python 3 (ipykernel)",
   "language": "python",
   "name": "python3"
  },
  "language_info": {
   "codemirror_mode": {
    "name": "ipython",
    "version": 3
   },
   "file_extension": ".py",
   "mimetype": "text/x-python",
   "name": "python",
   "nbconvert_exporter": "python",
   "pygments_lexer": "ipython3",
   "version": "3.9.12"
  }
 },
 "nbformat": 4,
 "nbformat_minor": 5
}
