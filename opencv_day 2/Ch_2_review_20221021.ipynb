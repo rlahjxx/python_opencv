{
 "cells": [
  {
   "cell_type": "markdown",
   "id": "7f438c4b",
   "metadata": {},
   "source": [
    "## 복습"
   ]
  },
  {
   "cell_type": "code",
   "execution_count": 2,
   "id": "7f7f1890",
   "metadata": {},
   "outputs": [],
   "source": [
    "import cv2\n",
    "import numpy as np\n",
    "import sys"
   ]
  },
  {
   "cell_type": "code",
   "execution_count": null,
   "id": "c2074cfc",
   "metadata": {},
   "outputs": [],
   "source": [
    "cap = cv2.VideoCapture(0)\n",
    "\n",
    "if not cap.isOpened():\n",
    "    print('video open failed')\n",
    "    sys.exit()\n",
    "    \n",
    "w = int(cap.get(cv2.CAP_PROP_FRAME_WIDTH))\n",
    "h = int(cap.get(cv2.CAP_PROP_FRAME_HEIGHT))\n",
    "fps = int(cap.get(cv2.CAP_PROP_FPS))\n",
    "fourcc = cv2.VideoWriter_fourcc(*'DIVX')\n",
    "\n",
    "review = cv2.VideoWriter('review.avi', fourcc, fps, (w,h))\n",
    "    \n",
    "while True :\n",
    "    ret, frame = cap.read()\n",
    "    \n",
    "    if not ret :\n",
    "        print('frame read failed')\n",
    "        break\n",
    "    \n",
    "    edge = cv2.Canny(frame, 50, 100)\n",
    "    \n",
    "    review.write(frame)\n",
    "    cv2.imshow('frame', frame)\n",
    "#     cv2.imshow('edge', edge)\n",
    "    \n",
    "    if cv2.waitKey(30) == 27 :\n",
    "        break\n",
    "\n",
    "review.release()\n",
    "cap.release()\n",
    "cv2.destroyAllWindows()"
   ]
  },
  {
   "cell_type": "code",
   "execution_count": null,
   "id": "196bc3df",
   "metadata": {},
   "outputs": [],
   "source": [
    "img = np.ones((600,1200,3), np.uint8)*255\n",
    "\n",
    "cv2.line(img, (100,50), (300,100), (0,0,255), 10, cv2.LINE_AA)\n",
    "cv2.arrowedLine(img, (300,100), (200,300), (0,0,255), cv2.LINE_AA)\n",
    "cv2.rectangle(img, (100,400,200,100), (250,0,0), -1)\n",
    "cv2.circle(img, (600,300), 100, (0,255,0), 10, cv2.LINE_AA)\n",
    "cv2.putText(img, 'Hello Friday!', (600,500), cv2.FONT_HERSHEY_COMPLEX, 1.2, (0,0,255), 3, cv2.LINE_AA)\n",
    "\n",
    "cv2.imshow('image', img)\n",
    "\n",
    "cv2.waitKey()\n",
    "cv2.destroyAllWindows()"
   ]
  },
  {
   "cell_type": "code",
   "execution_count": 3,
   "id": "3514642c",
   "metadata": {},
   "outputs": [],
   "source": [
    "import glob"
   ]
  },
  {
   "cell_type": "code",
   "execution_count": null,
   "id": "9dcca720",
   "metadata": {},
   "outputs": [],
   "source": [
    "img_files = glob.glob('../opencv_day 1/fig/images/*.*')\n",
    "\n",
    "cv2.namedWindow('scene', cv2.WINDOW_NORMAL)\n",
    "cv2.setWindowProperty('scene', cv2.WND_PROP_FULLSCREEN, cv2.WINDOW_FULLSCREEN)\n",
    "\n",
    "idx = 0\n",
    "\n",
    "while True:\n",
    "    img = cv2.imread(img_files[idx])\n",
    "    if img is None:\n",
    "        print('image read failed')\n",
    "        break\n",
    "    cv2.imshow('scene', img)\n",
    "    \n",
    "    if cv2.waitKey(3000) == 27:\n",
    "        break\n",
    "        \n",
    "    idx += 1\n",
    "    \n",
    "    if idx >= len(img_files):\n",
    "        idx = 0\n",
    "\n",
    "cv2.destroyAllWindows()"
   ]
  },
  {
   "cell_type": "markdown",
   "id": "5a97f007",
   "metadata": {},
   "source": [
    "## 사진 event 받기"
   ]
  },
  {
   "cell_type": "code",
   "execution_count": null,
   "id": "2c682990",
   "metadata": {},
   "outputs": [],
   "source": [
    "img = cv2.imread('./fig/cat.bmp', 0)\n",
    "\n",
    "if img is None :\n",
    "    print('img read failed')\n",
    "    sys.exit()\n",
    "\n",
    "img2 = img.copy()    \n",
    "    \n",
    "cv2.imshow('image', img)\n",
    "\n",
    "while True:\n",
    "    key = cv2.waitKey()\n",
    "    \n",
    "    if key == 27 or key == ord('q'):\n",
    "        break\n",
    "        \n",
    "    elif key == ord('i'):\n",
    "#         img = ~ img\n",
    "        img = 255 - img\n",
    "        cv2.imshow('image', img)\n",
    "        \n",
    "    elif key == ord('e'):\n",
    "        img = cv2.Canny(img, 100, 150)\n",
    "        cv2.imshow('image', img)\n",
    "        \n",
    "    elif key == ord('r'):\n",
    "        img = img2.copy()\n",
    "        cv2.imshow('image', img)\n",
    "        \n",
    "    elif key == ord('s'):\n",
    "        cv2.imwrite('saved.png', img)\n",
    "        print('Your image is saved !!')\n",
    "        \n",
    "cv2.destroyAllWindows()"
   ]
  },
  {
   "cell_type": "markdown",
   "id": "64eb5325",
   "metadata": {},
   "source": [
    "## 동영상 event 받기"
   ]
  },
  {
   "cell_type": "code",
   "execution_count": 12,
   "id": "d9859b11",
   "metadata": {},
   "outputs": [],
   "source": [
    "cap = cv2.VideoCapture(0)\n",
    "\n",
    "if not cap.isOpened() :\n",
    "    print('cap open failed')\n",
    "    sys.exit()\n",
    "\n",
    "f_flip = False\n",
    "i_edge = False\n",
    "    \n",
    "while True :\n",
    "    ret, frame = cap.read()\n",
    "    if not ret :\n",
    "        print('frame read failed')\n",
    "        break\n",
    "        \n",
    "    if f_flip :\n",
    "        frame = cv2.flip(frame, -1)\n",
    "        \n",
    "    if i_edge :\n",
    "        frame = cv2.Canny(frame, 100, 150)\n",
    "        \n",
    "    cv2.imshow('frame', frame)\n",
    "    \n",
    "    key = cv2.waitKey(20)\n",
    "    \n",
    "    if key == 27 or key == ord('q'):\n",
    "        break\n",
    "        \n",
    "    elif key == ord('f'):\n",
    "        f_flip = not f_flip\n",
    "        \n",
    "    elif key == ord('i'):\n",
    "        i_edge = not i_edge\n",
    "        \n",
    "cap.release()\n",
    "cv2.destroyAllWindows()"
   ]
  },
  {
   "cell_type": "markdown",
   "id": "936e30ed",
   "metadata": {},
   "source": [
    "## 마우스 event 받기"
   ]
  },
  {
   "cell_type": "code",
   "execution_count": 27,
   "id": "577fb99b",
   "metadata": {},
   "outputs": [],
   "source": [
    "def call_mouse(event, x, y, flags, param):\n",
    "    global oldx, oldy # global 함수를 이용하여 정의 함수 밖의 변수 사용 가능\n",
    "    \n",
    "    if event == cv2.EVENT_LBUTTONDOWN:\n",
    "        oldx, oldy = x, y\n",
    "        \n",
    "    elif event == cv2.EVENT_MOUSEMOVE:\n",
    "        if flags == cv2.EVENT_FLAG_LBUTTON:  # 마우스 왼쪽 버튼이 눌려져 있으면 좌표 출력\n",
    "            cv2.line(img, (oldx, oldy), (x, y), (255,0,0), 5, cv2.LINE_AA)\n",
    "            cv2.imshow('image', img)\n",
    "            oldx, oldy = x, y  # 키가 다시 oldx, oldy로 돌아가서 다시 그려줌\n",
    "\n",
    "img = np.ones((500,600,3), np.uint8)*255\n",
    "\n",
    "cv2.namedWindow('image')\n",
    "# setMouseCallback(windowName, onMouse [, param])\n",
    "cv2.setMouseCallback('image', call_mouse, img)\n",
    "\n",
    "cv2.imshow('image', img)\n",
    "\n",
    "cv2.waitKey()\n",
    "cv2.destroyAllWindows()"
   ]
  },
  {
   "cell_type": "code",
   "execution_count": null,
   "id": "2585dce6",
   "metadata": {},
   "outputs": [],
   "source": []
  }
 ],
 "metadata": {
  "kernelspec": {
   "display_name": "Python 3 (ipykernel)",
   "language": "python",
   "name": "python3"
  },
  "language_info": {
   "codemirror_mode": {
    "name": "ipython",
    "version": 3
   },
   "file_extension": ".py",
   "mimetype": "text/x-python",
   "name": "python",
   "nbconvert_exporter": "python",
   "pygments_lexer": "ipython3",
   "version": "3.9.12"
  }
 },
 "nbformat": 4,
 "nbformat_minor": 5
}
