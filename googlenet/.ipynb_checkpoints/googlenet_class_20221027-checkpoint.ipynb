{
 "cells": [
  {
   "cell_type": "code",
   "execution_count": 1,
   "id": "3e423137",
   "metadata": {},
   "outputs": [],
   "source": [
    "import cv2\n",
    "import numpy as np\n",
    "import sys\n",
    "import os"
   ]
  },
  {
   "cell_type": "markdown",
   "id": "34673bcb",
   "metadata": {},
   "source": [
    "## googlenet 영상 인식"
   ]
  },
  {
   "cell_type": "code",
   "execution_count": null,
   "id": "c63d5e37",
   "metadata": {},
   "outputs": [],
   "source": [
    "model_name = './googlenet-12.onnx'\n",
    "config_name = ''\n",
    "\n",
    "file_name = './fig/airplane1.jpg'\n",
    "img = cv2.imread(file_name)\n",
    "\n",
    "net = cv2.dnn.readNet(model_name, config_name)\n",
    "if net.empty():  # False가 나오면 모델 읽기 성공, True가 나오면 모델 읽기 실패\n",
    "    print('model read failed')\n",
    "    sys.exit()\n",
    "    \n",
    "classNames = []\n",
    "with open('./classification_classes_ILSVRC2012.txt', 'r') as f:\n",
    "    # file 전체가 하나로 묶여서 출력되어 있어서 빈칸으로 split 해줘야 함\n",
    "    classNames = f.read().rstrip('\\n').rsplit('\\n')  # 맨 끝줄이 빈칸이므로 rstrip('\\n')으로 없애주고 split 실행\n",
    "# print(classNames)\n",
    "\n",
    "# blobFromImage(image, scalefactor(입력 영상 픽셀 값에 곱할 값 - 선택적으로 특정 요소만큼 크기를 줄이거나 늘릴 수 있음), \n",
    "# size(신경망이 예상하는 이미지 크기), mean(각 채널에서 빼야하는 R,G,B 값), swapRB(R과 B 채널을 서로 바꿀 것인지를 결정하는 플래그. 기본값은 False), crop[, ddepth]]]]]])\n",
    "blob = cv2.dnn.blobFromImage(img, 1, (224, 224), (104, 117, 123), swapRB = False)\n",
    "\n",
    "net.setInput(blob)\n",
    "prob = net.forward()\n",
    "print(prob.shape)\n",
    "\n",
    "out = prob.flatten()\n",
    "classid = np.argmax(out) # 가장 큰 값의 인덱스 반환\n",
    "confidence = out[classid]\n",
    "\n",
    "text = f'{classNames[classid]} : ({confidence * 100:.2f}%)'\n",
    "cv2.putText(img, text, (10,30), cv2.FONT_HERSHEY_COMPLEX, 1, (255, 255, 0), 2, cv2.LINE_AA)\n",
    "\n",
    "cv2.imshow('image', img)\n",
    "cv2.waitKey()\n",
    "cv2.destroyAllWindows()"
   ]
  },
  {
   "cell_type": "markdown",
   "id": "64b1f81e",
   "metadata": {},
   "source": [
    "## 응용 - 크기 변환 및 여러 이미지 불러오기"
   ]
  },
  {
   "cell_type": "code",
   "execution_count": 7,
   "id": "4d4e1dbf",
   "metadata": {},
   "outputs": [],
   "source": [
    "model_name = './googlenet-12.onnx'\n",
    "config_name = ''\n",
    "\n",
    "dst = cv2.imread('./fig/airplane1.jpg')\n",
    "h, w = dst.shape[:2]\n",
    "\n",
    "img_lists = os.listdir('./fig/')\n",
    "img_files = []\n",
    "\n",
    "for i in img_lists :\n",
    "    img_file = './fig/' + i\n",
    "    img_files.append(img_file)\n",
    "    \n",
    "cv2.namedWindow('image', cv2.WINDOW_NORMAL)\n",
    "cv2.setWindowProperty('image', cv2.WND_PROP_FULLSCREEN, cv2.WINDOW_FULLSCREEN)\n",
    "\n",
    "idx = 0\n",
    "while True :\n",
    "    img = cv2.imread(img_files[idx])\n",
    "    img2 = img.copy()\n",
    "    img2 = cv2.resize(img2, (w, h), interpolation = cv2.INTER_LINEAR)\n",
    "    \n",
    "    if img2 is None :\n",
    "        print('image read failed')\n",
    "        break\n",
    "\n",
    "    net = cv2.dnn.readNet(model_name, config_name)\n",
    "    if net.empty():  # False가 나오면 모델 읽기 성공, True가 나오면 모델 읽기 실패\n",
    "        print('model read failed')\n",
    "        sys.exit()\n",
    "\n",
    "    classNames = []\n",
    "    with open('./classification_classes_ILSVRC2012.txt', 'r') as f:\n",
    "        classNames = f.read().rstrip('\\n').rsplit('\\n')  \n",
    "\n",
    "    blob = cv2.dnn.blobFromImage(img2, 1, (224, 224), (104, 117, 123), swapRB = False)\n",
    "\n",
    "    net.setInput(blob)\n",
    "    prob = net.forward()\n",
    "\n",
    "    out = prob.flatten()\n",
    "    classid = np.argmax(out)\n",
    "    confidence = out[classid]\n",
    "\n",
    "    text = f'{classNames[classid]} : ({confidence * 100:.2f}%)'\n",
    "    cv2.putText(img2, text, (10,30), cv2.FONT_HERSHEY_COMPLEX, 1, (255, 255, 0), 2, cv2.LINE_AA)\n",
    "\n",
    "    cv2.imshow('image', img2)\n",
    "    \n",
    "    if cv2.waitKey(1000) == 27 :\n",
    "        break\n",
    "        \n",
    "    idx += 1\n",
    "    \n",
    "    if idx >= len(img_files) :\n",
    "        idx = 0\n",
    "\n",
    "cv2.destroyAllWindows()"
   ]
  },
  {
   "cell_type": "code",
   "execution_count": null,
   "id": "64c76ca5",
   "metadata": {},
   "outputs": [],
   "source": []
  }
 ],
 "metadata": {
  "kernelspec": {
   "display_name": "Python 3 (ipykernel)",
   "language": "python",
   "name": "python3"
  },
  "language_info": {
   "codemirror_mode": {
    "name": "ipython",
    "version": 3
   },
   "file_extension": ".py",
   "mimetype": "text/x-python",
   "name": "python",
   "nbconvert_exporter": "python",
   "pygments_lexer": "ipython3",
   "version": "3.9.12"
  }
 },
 "nbformat": 4,
 "nbformat_minor": 5
}
